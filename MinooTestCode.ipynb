{
  "nbformat": 4,
  "nbformat_minor": 0,
  "metadata": {
    "colab": {
      "name": "MinooTestCode.ipynb",
      "provenance": [],
      "mount_file_id": "1xfq9dxTc4htHlWLDVxr0D7D9IfiDqicL",
      "authorship_tag": "ABX9TyOAJwks7sPXoX3BV9fC10Hq",
      "include_colab_link": true
    },
    "kernelspec": {
      "name": "python3",
      "display_name": "Python 3"
    },
    "language_info": {
      "name": "python"
    }
  },
  "cells": [
    {
      "cell_type": "markdown",
      "metadata": {
        "id": "view-in-github",
        "colab_type": "text"
      },
      "source": [
        "<a href=\"https://colab.research.google.com/github/abd-minoo/project-mv/blob/main/MinooTestCode.ipynb\" target=\"_parent\"><img src=\"https://colab.research.google.com/assets/colab-badge.svg\" alt=\"Open In Colab\"/></a>"
      ]
    },
    {
      "cell_type": "markdown",
      "source": [
        "<h1>Minoo's Basic Code</h1>\n"
      ],
      "metadata": {
        "id": "smZ1Skb19MXZ"
      }
    },
    {
      "cell_type": "code",
      "execution_count": 2,
      "metadata": {
        "colab": {
          "base_uri": "https://localhost:8080/"
        },
        "id": "5_uAzb_M9IEa",
        "outputId": "d5465a3e-91f5-42a0-a6a2-312b950c39d7"
      },
      "outputs": [
        {
          "output_type": "stream",
          "name": "stdout",
          "text": [
            "Hello World\n"
          ]
        }
      ],
      "source": [
        "print(\"Hello World\")"
      ]
    }
  ]
}